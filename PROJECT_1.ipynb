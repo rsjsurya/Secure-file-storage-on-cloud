{
  "nbformat": 4,
  "nbformat_minor": 0,
  "metadata": {
    "colab": {
      "provenance": []
    },
    "kernelspec": {
      "name": "python3",
      "display_name": "Python 3"
    },
    "language_info": {
      "name": "python"
    }
  },
  "cells": [
    {
      "cell_type": "code",
      "execution_count": null,
      "metadata": {
        "colab": {
          "base_uri": "https://localhost:8080/"
        },
        "id": "HR3LBdbvDT0l",
        "outputId": "21a1658e-b5e0-481b-f7a9-10b60fb4f4db"
      },
      "outputs": [
        {
          "output_type": "stream",
          "name": "stdout",
          "text": [
            "Requirement already satisfied: cryptography in /usr/local/lib/python3.10/dist-packages (43.0.3)\n",
            "Collecting pycryptodome\n",
            "  Downloading pycryptodome-3.21.0-cp36-abi3-manylinux_2_17_x86_64.manylinux2014_x86_64.whl.metadata (3.4 kB)\n",
            "Requirement already satisfied: cffi>=1.12 in /usr/local/lib/python3.10/dist-packages (from cryptography) (1.17.1)\n",
            "Requirement already satisfied: pycparser in /usr/local/lib/python3.10/dist-packages (from cffi>=1.12->cryptography) (2.22)\n",
            "Downloading pycryptodome-3.21.0-cp36-abi3-manylinux_2_17_x86_64.manylinux2014_x86_64.whl (2.3 MB)\n",
            "\u001b[2K   \u001b[90m━━━━━━━━━━━━━━━━━━━━━━━━━━━━━━━━━━━━━━━━\u001b[0m \u001b[32m2.3/2.3 MB\u001b[0m \u001b[31m25.6 MB/s\u001b[0m eta \u001b[36m0:00:00\u001b[0m\n",
            "\u001b[?25hInstalling collected packages: pycryptodome\n",
            "Successfully installed pycryptodome-3.21.0\n"
          ]
        }
      ],
      "source": [
        "!pip install cryptography pycryptodome"
      ]
    },
    {
      "cell_type": "code",
      "source": [
        "import os\n",
        "from Crypto.Cipher import AES\n",
        "from Crypto.PublicKey import ElGamal\n",
        "from Crypto.Util.Padding import pad, unpad\n",
        "from Crypto.Random import get_random_bytes\n",
        "from Crypto.PublicKey import RSA\n",
        "from Crypto.Cipher import PKCS1_OAEP\n",
        "\n",
        "def generate_file_name(base_name, extension):\n",
        "    return f\"{base_name}_{os.urandom(4).hex()}{extension}\"\n",
        "\n",
        "def aes_encrypt_file(input_file, output_dir, aes_key):\n",
        "    with open(input_file, 'rb') as f:\n",
        "        data = f.read()\n",
        "    cipher = AES.new(aes_key, AES.MODE_CBC)\n",
        "    iv = cipher.iv\n",
        "    encrypted_data = cipher.encrypt(pad(data, AES.block_size))\n",
        "    _, ext = os.path.splitext(input_file)\n",
        "    output_file = os.path.join(output_dir, generate_file_name(\"encrypted\", ext))\n",
        "    with open(output_file, 'wb') as f:\n",
        "        f.write(iv + encrypted_data)\n",
        "    print(f\"AES encryption done. Encrypted file saved as: {output_file}\")\n",
        "    return output_file\n",
        "\n",
        "def aes_decrypt_file(input_file, output_dir, aes_key):\n",
        "    with open(input_file, 'rb') as f:\n",
        "        iv = f.read(16)\n",
        "        encrypted_data = f.read()\n",
        "    cipher = AES.new(aes_key, AES.MODE_CBC, iv)\n",
        "    decrypted_data = unpad(cipher.decrypt(encrypted_data), AES.block_size)\n",
        "    _, ext = os.path.splitext(input_file)\n",
        "    output_file = os.path.join(output_dir, generate_file_name(\"decrypted\", ext))\n",
        "    with open(output_file, 'wb') as f:\n",
        "        f.write(decrypted_data)\n",
        "    print(f\"AES decryption done. Decrypted file saved as: {output_file}\")\n",
        "    return output_file\n",
        "\n",
        "def rsa_encrypt_key(aes_key, public_key_file, output_dir):\n",
        "    with open(public_key_file, 'rb') as f:\n",
        "        public_key = RSA.import_key(f.read())\n",
        "    cipher_rsa = PKCS1_OAEP.new(public_key)\n",
        "    encrypted_key = cipher_rsa.encrypt(aes_key)\n",
        "    encrypted_key_file = os.path.join(output_dir, generate_file_name(\"El-Gamal_encrypted_key\", \".bin\"))\n",
        "    with open(encrypted_key_file, 'wb') as f:\n",
        "        f.write(encrypted_key)\n",
        "    print(f\"El-Gamal encryption of AES key done. Key saved as: {encrypted_key_file}\")\n",
        "    return encrypted_key_file\n",
        "\n",
        "def rsa_decrypt_key(encrypted_key_file, private_key_file):\n",
        "    with open(private_key_file, 'rb') as f:\n",
        "        private_key = RSA.import_key(f.read())\n",
        "    with open(encrypted_key_file, 'rb') as f:\n",
        "        encrypted_key = f.read()\n",
        "    cipher_rsa = PKCS1_OAEP.new(private_key)\n",
        "    aes_key = cipher_rsa.decrypt(encrypted_key)\n",
        "    print(\"El-Gamal decryption of AES key done.\")\n",
        "    return aes_key\n",
        "\n",
        "if __name__ == \"__main__\":\n",
        "    print(\"Choose an operation:\")\n",
        "    print(\"1. Encrypt a file\")\n",
        "    print(\"2. Decrypt a file\")\n",
        "    choice = input(\"Enter your choice (1/2): \").strip()\n",
        "\n",
        "    if choice == \"1\":\n",
        "        input_file = input(\"Enter the full path of the file to encrypt: \").strip()\n",
        "        if not os.path.isfile(input_file):\n",
        "            print(\"Error: Input file does not exist.\")\n",
        "            exit(1)\n",
        "        output_dir = input(\"Enter the directory where encrypted files should be saved: \").strip()\n",
        "        if not os.path.isdir(output_dir):\n",
        "            print(\"Error: Output directory does not exist.\")\n",
        "            exit(1)\n",
        "        aes_key = get_random_bytes(16)\n",
        "        encrypted_file = aes_encrypt_file(input_file, output_dir, aes_key)\n",
        "        key = RSA.generate(2048)\n",
        "        private_key_file = os.path.join(output_dir, \"private.pem\")\n",
        "        public_key_file = os.path.join(output_dir, \"public.pem\")\n",
        "        with open(private_key_file, 'wb') as f:\n",
        "            f.write(key.export_key())\n",
        "        with open(public_key_file, 'wb') as f:\n",
        "            f.write(key.publickey().export_key())\n",
        "        print(f\"El-Gamal key pair generated. Private key: {private_key_file}, Public key: {public_key_file}\")\n",
        "        encrypted_key_file = rsa_encrypt_key(aes_key, public_key_file, output_dir)\n",
        "\n",
        "    elif choice == \"2\":\n",
        "        encrypted_file = input(\"Enter the full path of the encrypted file: \").strip()\n",
        "        if not os.path.isfile(encrypted_file):\n",
        "            print(\"Error: Encrypted file does not exist.\")\n",
        "            exit(1)\n",
        "        output_dir = input(\"Enter the directory where decrypted files should be saved: \").strip()\n",
        "        if not os.path.isdir(output_dir):\n",
        "            print(\"Error: Output directory does not exist.\")\n",
        "            exit(1)\n",
        "        encrypted_key_file = input(\"Enter the full path of the El-Gamal-encrypted AES key file: \").strip()\n",
        "        if not os.path.isfile(encrypted_key_file):\n",
        "            print(\"Error: Encrypted AES key file does not exist.\")\n",
        "            exit(1)\n",
        "        private_key_file = input(\"Enter the full path of the El-Gamal private key file: \").strip()\n",
        "        if not os.path.isfile(private_key_file):\n",
        "            print(\"Error: Private key file does not exist.\")\n",
        "            exit(1)\n",
        "        aes_key = rsa_decrypt_key(encrypted_key_file, private_key_file)\n",
        "        decrypted_file = aes_decrypt_file(encrypted_file, output_dir, aes_key)\n",
        "\n",
        "    else:\n",
        "        print(\"Invalid choice. Exiting.\")\n"
      ],
      "metadata": {
        "colab": {
          "base_uri": "https://localhost:8080/"
        },
        "id": "_-qywmjNDkc9",
        "outputId": "3f0dbdbb-9756-4bb1-c6c9-ae6db46afe6d"
      },
      "execution_count": null,
      "outputs": [
        {
          "output_type": "stream",
          "name": "stdout",
          "text": [
            "Choose an operation:\n",
            "1. Encrypt a file\n",
            "2. Decrypt a file\n"
          ]
        }
      ]
    }
  ]
}